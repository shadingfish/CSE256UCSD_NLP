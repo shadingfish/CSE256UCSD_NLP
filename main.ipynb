{
 "cells": [
  {
   "cell_type": "code",
   "execution_count": null,
   "metadata": {},
   "outputs": [],
   "source": [
    "import requests\n",
    "import json\n",
    "import csv\n",
    "import matplotlib.pyplot as plt\n",
    "from collections import Counter\n",
    "import logging\n",
    "import pandas as pd\n",
    "from bg_context import generate_pl_bg, generate_ev_bg, generate_na_bg, bg_monitoring, bg_evaluating, bg_planning\n",
    "from ollama_class import OllamaLLM"
   ]
  },
  {
   "cell_type": "code",
   "execution_count": 23,
   "metadata": {},
   "outputs": [],
   "source": [
    "def save_to_csv(data, filename):\n",
    "    \"\"\"\n",
    "    Save generated data to a CSV file.\n",
    "\n",
    "    Args:\n",
    "        data (list): List of dictionaries containing generated texts, scores, and tags.\n",
    "        filename (str): Path to the output CSV file.\n",
    "    \"\"\"\n",
    "    df = pd.DataFrame(data)\n",
    "    df.to_csv(filename, index=False)\n",
    "    print(f\"Data saved to {filename}\")\n",
    "\n",
    "def save_to_json(data, filename):\n",
    "    \"\"\"\n",
    "    Save generated data to a JSON file.\n",
    "\n",
    "    Args:\n",
    "        data (list): List of dictionaries containing generated texts, scores, and tags.\n",
    "        filename (str): Path to the output JSON file.\n",
    "    \"\"\"\n",
    "    with open(filename, \"w\") as f:\n",
    "        json.dump(data, f, indent=4)\n",
    "    print(f\"Data saved to {filename}\")"
   ]
  },
  {
   "cell_type": "code",
   "execution_count": 38,
   "metadata": {},
   "outputs": [],
   "source": [
    "# Configure logging\n",
    "logging.basicConfig(level=logging.ERROR, format='%(asctime)s - %(levelname)s - %(message)s')"
   ]
  },
  {
   "cell_type": "code",
   "execution_count": 27,
   "metadata": {},
   "outputs": [],
   "source": [
    "ollama = OllamaLLM(api_url=\"http://localhost:11434/api/generate\")"
   ]
  },
  {
   "cell_type": "markdown",
   "metadata": {},
   "source": [
    "# Generate dataset on Planning and Evaluating"
   ]
  },
  {
   "cell_type": "code",
   "execution_count": 36,
   "metadata": {},
   "outputs": [
    {
     "name": "stdout",
     "output_type": "stream",
     "text": [
      "Error generating batch 1: string indices must be integers\n",
      "Error generating batch 2: string indices must be integers\n",
      "Data saved to output_classification_generated_na.csv\n",
      "0 examples saved\n"
     ]
    }
   ],
   "source": [
    "# Generate data in batches\n",
    "generated_data = ollama.generate_na_data(\"llama3.2\", 20)\n",
    "# Save to CSV\n",
    "save_to_csv(generated_data, \"output_classification_generated_na.csv\")\n",
    "print(f\"{len(generated_data)} examples saved\")"
   ]
  },
  {
   "cell_type": "markdown",
   "metadata": {},
   "source": [
    "# Read real-world dataset on monitoring"
   ]
  },
  {
   "cell_type": "code",
   "execution_count": 73,
   "metadata": {},
   "outputs": [],
   "source": [
    "# Replace with actual file path\n",
    "input_file = 'reflections.csv'\n",
    "# input_file = 'reflections_test.csv' \n",
    "\n",
    "rows = []\n",
    "output_rows = []\n",
    "\n",
    "# Read the input CSV\n",
    "try:\n",
    "    with open(input_file, 'r') as csvfile:\n",
    "        reader = csv.reader(csvfile, delimiter='\\t')  # Adjust delimiter if necessary\n",
    "        for row in reader:\n",
    "            rows.append(row)\n",
    "except Exception as e:\n",
    "    logging.error(f\"Error reading input file: {e}\")\n",
    "    exit(1)"
   ]
  },
  {
   "cell_type": "markdown",
   "metadata": {},
   "source": [
    "## Enhance real-world dataset on monitoring"
   ]
  },
  {
   "cell_type": "code",
   "execution_count": 75,
   "metadata": {},
   "outputs": [
    {
     "name": "stdout",
     "output_type": "stream",
     "text": [
      "Minimally enhanced responses saved to enhanced_responses_with_context.csv\n"
     ]
    }
   ],
   "source": [
    "output_file_enhance = 'enhanced_responses_with_context.csv'\n",
    "\n",
    "output_rows_enhance = []\n",
    "\n",
    "for row in rows:\n",
    "    try:\n",
    "        text = row[2]\n",
    "        enhanced_text_ctx = ollama.minimally_enhance_text(\"llama3.2\", text, bg_monitoring)\n",
    "        enhanced_text = enhanced_text_ctx.get(\"enhanced_text\", \"\")\n",
    "        output_rows_enhance.append([row[0], row[1], text, enhanced_text])\n",
    "    except Exception as e:\n",
    "        logging.error(f\"Error enhancing text for row {row}: {e}\")\n",
    "        output_rows_enhance.append([row[0], row[1], text, \"Error enhancing text\"])\n",
    "\n",
    "try:\n",
    "    with open(output_file_enhance, 'w') as csvfile:\n",
    "        writer = csv.writer(csvfile)\n",
    "        writer.writerow([\"ID\", \"Code\", \"Original Text\", \"Enhanced Text\"])\n",
    "        writer.writerows(output_rows_enhance)\n",
    "    print(f\"Minimally enhanced responses saved to {output_file_enhance}\")\n",
    "except Exception as e:\n",
    "    logging.error(f\"Error writing to output file: {e}\")"
   ]
  },
  {
   "cell_type": "markdown",
   "metadata": {},
   "source": [
    "Extract text and tag only for better sub-processing"
   ]
  },
  {
   "cell_type": "code",
   "execution_count": null,
   "metadata": {},
   "outputs": [],
   "source": [
    "output_classification = [[row[3], \"monitor\"] for row in output_rows_enhance]\n",
    "\n",
    "with open(\"output_classification_monitoring.csv\", 'w') as csvfile:\n",
    "    writer = csv.writer(csvfile)\n",
    "    writer.writerow([\"text\", \"tag\"])\n",
    "    writer.writerows(output_classification)"
   ]
  },
  {
   "cell_type": "markdown",
   "metadata": {},
   "source": [
    "# Metacognition level grading"
   ]
  },
  {
   "cell_type": "code",
   "execution_count": null,
   "metadata": {},
   "outputs": [],
   "source": [
    "# Perform analysis\n",
    "output_rows = []\n",
    "\n",
    "for row in rows:\n",
    "    try:\n",
    "        text = row[2]  # Assuming the third column contains the text\n",
    "\n",
    "        # Without context\n",
    "        try:\n",
    "            monitoring_result = ollama.analyze_monitoring(\"llama3.2\", text)\n",
    "            monitoring_score = monitoring_result.get(\"monitoring_score\", 0)\n",
    "        except Exception as e:\n",
    "            logging.error(f\"Error in monitoring analysis without context for text '{text}': {e}\")\n",
    "            monitoring_score = 0\n",
    "\n",
    "        # With context\n",
    "        try:\n",
    "            bg_monitoring = \"Background information for monitoring analysis.\"  # Replace with actual context\n",
    "            monitoring_result_ctx = ollama.analyze_monitoring(\"llama3.2\", text, context=bg_monitoring)\n",
    "            monitoring_score_ctx = monitoring_result_ctx.get(\"monitoring_score\", 0)\n",
    "        except Exception as e:\n",
    "            logging.error(f\"Error in monitoring analysis with context for text '{text}': {e}\")\n",
    "            monitoring_score_ctx = 0\n",
    "\n",
    "        # Combine results\n",
    "        output_rows.append([\n",
    "            row[0], row[1], text,  # Original data\n",
    "            monitoring_score, monitoring_score_ctx\n",
    "        ])\n",
    "\n",
    "    except Exception as e:\n",
    "        logging.error(f\"Error processing row {row}: {e}\")\n",
    "        # Append row with default values for scores\n",
    "        output_rows.append([\n",
    "            row[0], row[1], row[2] if len(row) > 2 else \"\",  # Handle missing or malformed rows\n",
    "            0, 0  # Default scores for monitoring\n",
    "        ])"
   ]
  },
  {
   "cell_type": "code",
   "execution_count": null,
   "metadata": {},
   "outputs": [
    {
     "data": {
      "image/png": "[encoded data removed]",
      "text/plain": [
       "<Figure size 640x480 with 1 Axes>"
      ]
     },
     "metadata": {},
     "output_type": "display_data"
    },
    {
     "name": "stdout",
     "output_type": "stream",
     "text": [
      "Monitoring analysis complete. Results saved to output CSV and plot generated.\n"
     ]
    }
   ],
   "source": [
    "output_file = 'monitoring_output.csv'\n",
    "\n",
    "# Write results to new CSV\n",
    "with open(output_file, 'w') as csvfile:\n",
    "    writer = csv.writer(csvfile)\n",
    "    writer.writerow([\n",
    "        \"ID\", \"Code\", \"Text\", \"Monitoring (No Context)\", \"Monitoring (With Context)\"\n",
    "    ])\n",
    "    writer.writerows(output_rows)\n",
    "\n",
    "# Prepare data for cumulative bar chart\n",
    "no_context_scores = Counter(row[3] for row in output_rows)  # Monitoring (No Context)\n",
    "with_context_scores = Counter(row[4] for row in output_rows)  # Monitoring (With Context)\n",
    "\n",
    "# Plot cumulative bar charts\n",
    "x_labels = sorted(set(no_context_scores.keys()).union(with_context_scores.keys()))\n",
    "no_context_values = [no_context_scores.get(x, 0) for x in x_labels]\n",
    "with_context_values = [with_context_scores.get(x, 0) for x in x_labels]\n",
    "\n",
    "plt.bar(x_labels, no_context_values, alpha=0.6, label=\"No Context\")\n",
    "plt.bar(x_labels, with_context_values, alpha=0.6, label=\"With Context\")\n",
    "plt.xlabel(\"Scores\")\n",
    "plt.ylabel(\"Frequency\")\n",
    "plt.title(\"Cumulative Score Distribution: Monitoring\")\n",
    "plt.legend()\n",
    "plt.savefig('monitoring_score_distribution.png')\n",
    "plt.show()\n",
    "\n",
    "print(\"Monitoring analysis complete. Results saved to output CSV and plot generated.\")\n"
   ]
  },
  {
   "cell_type": "markdown",
   "metadata": {},
   "source": [
    "# Common Methods to Measure Metacognition\n",
    "\n",
    "## 1. Self-Report Questionnaires\n",
    "- **Description:** Assess individuals' metacognitive knowledge and regulation through structured surveys.\n",
    "- **Examples:**\n",
    "  - **Metacognitive Awareness Inventory (MAI):** Measures metacognitive knowledge and regulation across domains.\n",
    "  - **State Metacognitive Inventory (SMI):** Focuses on task-specific metacognitive states.\n",
    "  - **Metacognitive Activities Inventory (MCAI):** Used in educational settings to understand students' metacognitive strategies.\n",
    "- **Strengths:** Easy to administer; allows self-reflection.\n",
    "- **Limitations:** Subject to biases such as overestimation or social desirability effects.\n",
    "- **Reference:** Schraw, G., & Dennison, R. S. (1994). *Assessing metacognitive awareness.*\n",
    "\n",
    "---\n",
    "\n",
    "## 2. Think-Aloud Protocols\n",
    "- **Description:** Participants verbalize their thought processes while performing a task, providing real-time insights into planning, monitoring, and evaluation.\n",
    "- **Strengths:** Captures dynamic metacognitive processes.\n",
    "- **Limitations:** Time-consuming and requires detailed analysis.\n",
    "- **Reference:** Ericsson, K. A., & Simon, H. A. (1980). *Verbal reports as data.*\n",
    "\n",
    "---\n",
    "\n",
    "## 3. Behavioral Observation\n",
    "- **Description:** Observes actions during problem-solving tasks to infer metacognitive behaviors (e.g., checking work, adjusting strategies).\n",
    "- **Strengths:** Offers objective insights into behavior.\n",
    "- **Limitations:** May miss internal metacognitive processes.\n",
    "- **Reference:** Veenman, M. V. J., & Beishuizen, J. J. (2004). *Evaluating the use of metacognitive skills.*\n",
    "\n",
    "---\n",
    "\n",
    "## 4. Task-Specific Assessments\n",
    "- **Description:** Tasks explicitly designed to elicit metacognitive behaviors.\n",
    "  - **Judgment of Learning (JOL):** Participants predict how well they will remember or understand material.\n",
    "  - **Confidence Ratings:** Participants rate their confidence in answers or task performance.\n",
    "- **Strengths:** Focused and task-oriented.\n",
    "- **Limitations:** Performance may depend on the task's design.\n",
    "- **Reference:** Nelson, T. O., & Narens, L. (1990). *Metamemory: A theoretical framework and new findings.*\n",
    "\n",
    "---\n",
    "\n",
    "## 5. Post-Task Reflection\n",
    "- **Description:** Participants analyze and reflect on their task performance, identifying areas for improvement and strategies used.\n",
    "- **Strengths:** Provides insights into reflective metacognition.\n",
    "- **Reference:** Zimmerman, B. J. (2002). *Becoming a self-regulated learner.*\n",
    "\n",
    "---\n",
    "\n",
    "## 6. Learning Analytics\n",
    "- **Description:** Analyzes data from online learning platforms (e.g., click patterns, task revisits, resource usage) to infer metacognitive behaviors.\n",
    "- **Strengths:** Scalable and unobtrusive.\n",
    "- **Limitations:** Requires advanced data processing techniques.\n",
    "- **Reference:** Winne, P. H., & Hadwin, A. F. (1998). *Studying as self-regulated learning.*\n",
    "\n",
    "---\n",
    "\n",
    "## 7. Physiological Measures\n",
    "- **Description:** Measures physiological responses during tasks, such as:\n",
    "  - **Eye Tracking:** Captures gaze patterns to infer attention and strategy use.\n",
    "  - **EEG/fMRI:** Tracks brain activity in regions associated with metacognition, such as the prefrontal cortex.\n",
    "- **Strengths:** Provides objective, real-time data.\n",
    "- **Limitations:** Expensive and may not capture all metacognitive processes.\n",
    "- **Reference:** Fleming, S. M., & Dolan, R. J. (2012). *The neural basis of metacognitive capacity.*\n",
    "\n",
    "---\n",
    "\n",
    "## 8. Experiment-Based Methods\n",
    "- **Description:** Controlled experiments designed to measure specific metacognitive components, such as:\n",
    "  - **Error Detection Tasks:** Identify participants' ability to spot and correct errors.\n",
    "  - **Decision-Making Simulations:** Evaluate planning, monitoring, and strategy adaptation under constraints.\n",
    "- **Reference:** Koriat, A. (2007). *Metacognition and consciousness.*\n",
    "\n",
    "---\n",
    "\n",
    "# References\n",
    "1. Schraw, G., & Dennison, R. S. (1994). Assessing metacognitive awareness. *Contemporary Educational Psychology*, 19(4), 460–475.\n",
    "2. Ericsson, K. A., & Simon, H. A. (1980). Verbal reports as data. *Psychological Review*, 87(3), 215–251.\n",
    "3. Nelson, T. O., & Narens, L. (1990). Metamemory: A theoretical framework and new findings. *The Psychology of Learning and Motivation*, 26, 125–173.\n",
    "4. Veenman, M. V. J., & Beishuizen, J. J. (2004). Evaluating the use of metacognitive skills. *Learning and Instruction*, 14(2), 89–109.\n",
    "5. Winne, P. H., & Hadwin, A. F. (1998). Studying as self-regulated learning. *Metacognition in Educational Theory and Practice*, 277–304.\n",
    "6. Zimmerman, B. J. (2002). Becoming a self-regulated learner: An overview. *Theory into Practice*, 41(2), 64–70.\n",
    "7. Fleming, S. M., & Dolan, R. J. (2012). The neural basis of metacognitive capacity. *Nature Reviews Neuroscience*, 13(1), 7–21.\n",
    "8. Koriat, A. (2007). Metacognition and consciousness. *The Cambridge Handbook of Consciousness*, 289–325.\n",
    "\n",
    "\n",
    "Reliable, rapid, and remote measurement of metacognitive bias\n",
    "Authors: Not specified\n",
    "Published: 2024\n",
    "Summary: 该研究评估了Meta Mind的心理测量特性，包括其在远程环境下快速可靠地测量元认知偏差的能力。 \n",
    "NATURE\n",
    "\n",
    "Common computations for metacognition and meta-metacognition\n",
    "Authors: Not specified\n",
    "Published: 2023\n",
    "Summary: 本文探讨了感知决策中元认知和元-元认知之间的共同计算过程，提出了单一系统可以递归地生成二阶和三阶评估。 \n",
    "OXFORD ACADEMIC\n",
    "\n",
    "Measuring Metacognitive Knowledge, Monitoring, and Control in the Classroom\n",
    "Authors: Not specified\n",
    "Published: 2023\n",
    "Summary: 本文为在真实环境中测量元认知提供了用户指南，旨在帮助教育者和研究人员探索学生的元认知，以改善他们的元认知过程和成就。 \n",
    "AJPE\n",
    "\n",
    "Psychometric properties of the Metacognitive Awareness Inventory (MAI): standardization to an international Spanish with 12 countries\n",
    "Authors: Not specified\n",
    "Published: 2024\n",
    "Summary: 该研究验证了MAI在12个西班牙语国家的标准化版本，结果支持了原始的双因素结构，表明该版本是测量西班牙语国家元认知意识的有效工具。 \n",
    "SPRINGERLINK\n",
    "\n",
    "The many facets of metacognition: comparing multiple measures of metacognition in healthy individuals\n",
    "Authors: Not specified\n",
    "Published: 2023\n",
    "Summary: 该研究探讨了元认知的多维概念，比较了健康个体中元认知的多种测量方法，发现在线测量之间存在关联，但与离线测量的关联较少。\n",
    "\n",
    "Zulkiply, N.\n",
    "Metacognition and its Relationship with Students' Academic Performance.\n",
    "Download Link\n",
    "\n",
    "Rivero Galeano, R., et al.\n",
    "Metacognitive Strategies and Learning Quality: A Systematic Mapping Study.\n",
    "Download Link\n",
    "\n",
    "Anonymous.\n",
    "Metacognitive Awareness of High School Students.\n",
    "Download Link\n",
    "\n",
    "Kumari, S.\n",
    "Metacognition in Practice: Teaching Students to Think About Their Thinking.\n",
    "Download Link\n",
    "\n",
    "Anonymous.\n",
    "The Impact of Metacognitive Awareness on Academic Success.\n",
    "Download Link\n",
    "\n",
    "Anonymous.\n",
    "Metacognition: An Overview.\n",
    "Download Link\n",
    "\n",
    "Anonymous.\n",
    "Promoting Metacognition to Support Student Learning and Performance.\n",
    "Download Link\n",
    "\n",
    "Anonymous.\n",
    "Turning Abstraction into Concrete: The Role of Metacognition in Teaching and Learning.\n",
    "Download Link\n",
    "\n",
    "Anonymous.\n",
    "Learning Strategies as Metacognitive Factors: A Critical Review.\n",
    "Download Link\n",
    "\n",
    "Anonymous.\n",
    "Metacognition: A Literature Review Research Report.\n",
    "Download Link"
   ]
  }
 ],
 "metadata": {
  "kernelspec": {
   "display_name": ".venv",
   "language": "python",
   "name": "python3"
  },
  "language_info": {
   "codemirror_mode": {
    "name": "ipython",
    "version": 3
   },
   "file_extension": ".py",
   "mimetype": "text/x-python",
   "name": "python",
   "nbconvert_exporter": "python",
   "pygments_lexer": "ipython3",
   "version": "3.9.6"
  }
 },
 "nbformat": 4,
 "nbformat_minor": 2
}
